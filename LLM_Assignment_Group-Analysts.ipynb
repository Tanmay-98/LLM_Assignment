{
 "cells": [
  {
   "cell_type": "code",
   "execution_count": 2,
   "id": "a944d4c2",
   "metadata": {
    "collapsed": true
   },
   "outputs": [
    {
     "name": "stdout",
     "output_type": "stream",
     "text": [
      "Requirement already satisfied: torch in c:\\users\\tanma\\anaconda3\\lib\\site-packages (1.10.1+cu113)\n",
      "Requirement already satisfied: typing-extensions in c:\\users\\tanma\\anaconda3\\lib\\site-packages (from torch) (3.10.0.2)\n"
     ]
    },
    {
     "name": "stderr",
     "output_type": "stream",
     "text": [
      "WARNING: Ignoring invalid distribution -rotobuf (c:\\users\\tanma\\anaconda3\\lib\\site-packages)\n",
      "WARNING: Ignoring invalid distribution -rotobuf (c:\\users\\tanma\\anaconda3\\lib\\site-packages)\n",
      "WARNING: Ignoring invalid distribution -rotobuf (c:\\users\\tanma\\anaconda3\\lib\\site-packages)\n",
      "WARNING: Ignoring invalid distribution -rotobuf (c:\\users\\tanma\\anaconda3\\lib\\site-packages)\n",
      "WARNING: Ignoring invalid distribution -rotobuf (c:\\users\\tanma\\anaconda3\\lib\\site-packages)\n",
      "WARNING: Ignoring invalid distribution -rotobuf (c:\\users\\tanma\\anaconda3\\lib\\site-packages)\n"
     ]
    }
   ],
   "source": [
    "# !pip install torch"
   ]
  },
  {
   "cell_type": "code",
   "execution_count": 9,
   "id": "bd4e73f6",
   "metadata": {},
   "outputs": [
    {
     "name": "stdout",
     "output_type": "stream",
     "text": [
      "[100/1000] Loss: 0.1711\n",
      "[200/1000] Loss: 0.0236\n",
      "[300/1000] Loss: 0.0100\n",
      "[400/1000] Loss: 0.0058\n",
      "[500/1000] Loss: 0.0039\n",
      "[600/1000] Loss: 0.0028\n",
      "[700/1000] Loss: 0.0021\n",
      "[800/1000] Loss: 0.0017\n",
      "[900/1000] Loss: 0.0013\n",
      "[1000/1000] Loss: 0.0011\n",
      "Once upon a time,athereawasaaalittleagirlanamedaRedaRidingaHood.aShealivedainaaasmallavillage.aShealivedainaaasmalla\n"
     ]
    }
   ],
   "source": [
    "import torch\n",
    "import torch.nn as nn\n",
    "import torch.optim as optim\n",
    "\n",
    "# Define the RNN model\n",
    "class CustomLanguageModel(nn.Module):\n",
    "    def __init__(self, input_size, hidden_size, output_size):\n",
    "        super(CustomLanguageModel, self).__init__()\n",
    "        self.hidden_size = hidden_size\n",
    "        self.embedding = nn.Embedding(input_size, hidden_size)\n",
    "        self.rnn = nn.RNN(hidden_size, hidden_size)\n",
    "        self.fc = nn.Linear(hidden_size, output_size)\n",
    "\n",
    "    def forward(self, input, hidden):\n",
    "        embedded = self.embedding(input.view(1, -1))\n",
    "        output, hidden = self.rnn(embedded, hidden)\n",
    "        output = self.fc(output.view(1, -1))\n",
    "        return output, hidden\n",
    "\n",
    "    def init_hidden(self):\n",
    "        return torch.zeros(1, 1, self.hidden_size)\n",
    "\n",
    "def char_tensor(string):\n",
    "    tensor = torch.zeros(len(string)).long()\n",
    "    for c in range(len(string)):\n",
    "        try:\n",
    "            tensor[c] = all_characters.index(string[c])\n",
    "        except ValueError:\n",
    "            # Skip characters not found in all_characters\n",
    "            continue\n",
    "    return tensor\n",
    "\n",
    "\n",
    "def train(model, input_sequence, target_sequence, optimizer, criterion):\n",
    "    hidden = model.init_hidden()\n",
    "    optimizer.zero_grad()\n",
    "    loss = 0\n",
    "\n",
    "    for i in range(input_sequence.size(0)):\n",
    "        output, hidden = model(input_sequence[i], hidden)\n",
    "        loss += criterion(output, target_sequence[i].unsqueeze(0))\n",
    "\n",
    "    loss.backward()\n",
    "    optimizer.step()\n",
    "\n",
    "    return loss.item() / input_sequence.size(0)\n",
    "\n",
    "def generate_text(model, start_sequence, length):\n",
    "    with torch.no_grad():\n",
    "        input_sequence = char_tensor(start_sequence)\n",
    "        hidden = model.init_hidden()\n",
    "\n",
    "        for i in range(len(start_sequence) - 1):\n",
    "            _, hidden = model(input_sequence[i], hidden)\n",
    "\n",
    "        output_sequence = start_sequence\n",
    "\n",
    "        for i in range(length):\n",
    "            output, hidden = model(input_sequence[-1], hidden)\n",
    "            predicted_char = torch.argmax(output).item()\n",
    "            output_sequence += all_characters[predicted_char]\n",
    "            input_sequence = char_tensor(all_characters[predicted_char])\n",
    "\n",
    "        return output_sequence\n",
    "\n",
    "# Prepare the data\n",
    "all_characters = \"abcdefghijklmnopqrstuvwxyzABCDEFGHIJKLMNOPQRSTUVWXYZ0123456789,.!?'\"\n",
    "n_characters = len(all_characters)\n",
    "n_hidden = 128\n",
    "\n",
    "data = \"Once upon a time, there was a little girl named Red Riding Hood. She lived in a small village.\"\n",
    "\n",
    "# Set up the model, criterion, and optimizer\n",
    "model = CustomLanguageModel(n_characters, n_hidden, n_characters)\n",
    "criterion = nn.CrossEntropyLoss()\n",
    "optimizer = optim.Adam(model.parameters(), lr=0.001)\n",
    "\n",
    "# Train the model\n",
    "num_epochs = 1000\n",
    "print_every = 100\n",
    "losses = []\n",
    "\n",
    "for epoch in range(1, num_epochs + 1):\n",
    "    input_sequence = char_tensor(data[:-1])\n",
    "    target_sequence = char_tensor(data[1:])\n",
    "    loss = train(model, input_sequence, target_sequence, optimizer, criterion)\n",
    "    losses.append(loss)\n",
    "\n",
    "    if epoch % print_every == 0:\n",
    "        print(f\"[{epoch}/{num_epochs}] Loss: {loss:.4f}\")\n",
    "\n",
    "# Generate text using the trained model\n",
    "start_sequence = \"Once upon a time\"\n",
    "generated_text = generate_text(model, start_sequence, length=100)\n",
    "print(generated_text)\n"
   ]
  },
  {
   "cell_type": "code",
   "execution_count": 11,
   "id": "3a79aa81",
   "metadata": {},
   "outputs": [
    {
     "name": "stdout",
     "output_type": "stream",
     "text": [
      "Onceauponaaatime,athereawasaaalittleagirlanamedaRedaRidingaHood.aShealivedainaaasmallavillage.aShealived\n"
     ]
    }
   ],
   "source": [
    "start_sequence = \"Once\"\n",
    "generated_text = generate_text(model, start_sequence, length=100)\n",
    "print(generated_text)\n"
   ]
  },
  {
   "cell_type": "code",
   "execution_count": null,
   "id": "f3b0217b",
   "metadata": {},
   "outputs": [],
   "source": []
  }
 ],
 "metadata": {
  "kernelspec": {
   "display_name": "Python 3 (ipykernel)",
   "language": "python",
   "name": "python3"
  },
  "language_info": {
   "codemirror_mode": {
    "name": "ipython",
    "version": 3
   },
   "file_extension": ".py",
   "mimetype": "text/x-python",
   "name": "python",
   "nbconvert_exporter": "python",
   "pygments_lexer": "ipython3",
   "version": "3.9.7"
  }
 },
 "nbformat": 4,
 "nbformat_minor": 5
}
